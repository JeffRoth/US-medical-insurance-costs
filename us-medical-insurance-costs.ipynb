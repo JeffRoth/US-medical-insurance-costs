{
 "cells": [
  {
   "cell_type": "markdown",
   "metadata": {},
   "source": [
    "# U.S. Medical Insurance Costs"
   ]
  },
  {
   "cell_type": "code",
   "execution_count": null,
   "metadata": {},
   "outputs": [],
   "source": [
    "# Scope dataset\n",
    "import csv\n",
    "\n",
    "with open(\"insurance.csv\") as csvfile:\n",
    "    insurance_file = csv.reader(csvfile)\n",
    "    for row in insurance_file:\n",
    "        print(row)"
   ]
  },
  {
   "cell_type": "code",
   "execution_count": 2,
   "metadata": {},
   "outputs": [
    {
     "name": "stdout",
     "output_type": "stream",
     "text": [
      "no\n",
      "<class 'list'>\n"
     ]
    }
   ],
   "source": [
    "# Save dataset to Python variable\n",
    "with open(\"insurance.csv\") as csvfile:\n",
    "    reader = csv.DictReader(csvfile)\n",
    "    data_dict = list(reader)\n",
    "\n",
    "print(data_dict[3]['smoker'])\n",
    "print(type(data_dict))"
   ]
  },
  {
   "cell_type": "code",
   "execution_count": 3,
   "metadata": {},
   "outputs": [
    {
     "name": "stdout",
     "output_type": "stream",
     "text": [
      "1338\n"
     ]
    }
   ],
   "source": [
    "print(len(data_dict))"
   ]
  },
  {
   "cell_type": "code",
   "execution_count": 4,
   "metadata": {},
   "outputs": [
    {
     "name": "stdout",
     "output_type": "stream",
     "text": [
      "Percent of dataset that are smokers: 20\n",
      "Average age of smokers in dataset: 39\n",
      "Average age of non-smokers in dataset: 39\n"
     ]
    }
   ],
   "source": [
    "def smoker_mean_age(data_dict):\n",
    "    \"\"\"Find mean age of smokers.\"\"\"\n",
    "    smoker_count = 0\n",
    "    smoker_total_age = 0\n",
    "    nonsmoker_count = 0\n",
    "    nonsmoker_total_age = 0\n",
    "    i=0\n",
    "    for row in data_dict:\n",
    "        if data_dict[i]['smoker'] == \"yes\":\n",
    "            smoker_count += 1\n",
    "            smoker_total_age += int(data_dict[i]['age'])\n",
    "        else:\n",
    "            nonsmoker_count += 1\n",
    "            nonsmoker_total_age += int(data_dict[i]['age'])\n",
    "        i += 1\n",
    "    print(\"Percent of dataset that are smokers: {}\".format( round(smoker_count / (i+1) * 100), ))\n",
    "    print(\"Average age of smokers in dataset: {}\".format(round(smoker_total_age / (smoker_count))))\n",
    "    print(\"Average age of non-smokers in dataset: {}\".format(round(nonsmoker_total_age / (nonsmoker_count))))\n",
    "        \n",
    "smoker_mean_age(data_dict)"
   ]
  },
  {
   "cell_type": "code",
   "execution_count": 5,
   "metadata": {},
   "outputs": [
    {
     "name": "stdout",
     "output_type": "stream",
     "text": [
      "58 percent of smokers are male.\n",
      "42 percent of smokers are female.\n"
     ]
    }
   ],
   "source": [
    "def smoker_average_gender(data_dict):\n",
    "    \"\"\"Find percent of smokers that are female vs male.\"\"\"\n",
    "    i = 0\n",
    "    smoker_males = 0\n",
    "    smoker_females = 0\n",
    "    for row in data_dict:\n",
    "        if data_dict[i]['smoker'] == \"yes\" and data_dict[i]['sex'] == \"male\":\n",
    "            smoker_males += 1\n",
    "        elif data_dict[i]['smoker'] == \"yes\" and data_dict[i]['sex'] == \"female\":\n",
    "            smoker_females += 1\n",
    "        else:\n",
    "            pass\n",
    "        i += 1\n",
    "    total_smokers = smoker_males + smoker_females\n",
    "    print(\"{} percent of smokers are male.\".format(round(smoker_males / total_smokers * 100)))\n",
    "    print(\"{} percent of smokers are female.\".format(round(smoker_females / total_smokers * 100)))\n",
    "    \n",
    "smoker_average_gender(data_dict)"
   ]
  },
  {
   "cell_type": "code",
   "execution_count": 6,
   "metadata": {},
   "outputs": [
    {
     "name": "stdout",
     "output_type": "stream",
     "text": [
      "21 percent of people in the northeast are smokers.\n",
      "25 percent of people in the southeast are smokers.\n",
      "18 percent of people in the southwest are smokers.\n",
      "18 percent of people in the northwest are smokers.\n"
     ]
    }
   ],
   "source": [
    "def smokers_region(data_dict):\n",
    "    \"\"\"Determine what geographic region has highest percentage of smokers.\"\"\"\n",
    "    northeast_smokers = 0\n",
    "    northeast_nonsmokers = 0\n",
    "    southeast_smokers = 0\n",
    "    southeast_nonsmokers = 0\n",
    "    southwest_smokers = 0\n",
    "    southwest_nonsmokers = 0\n",
    "    northwest_smokers = 0\n",
    "    northwest_nonsmokers = 0\n",
    "    i = 0\n",
    "    for row in data_dict:\n",
    "        if data_dict[i]['region'] == 'northeast' and data_dict[i]['smoker'] == \"yes\":\n",
    "            northeast_smokers += 1\n",
    "        elif data_dict[i]['region'] == 'northeast' and data_dict[i]['smoker'] == \"no\":\n",
    "            northeast_nonsmokers += 1\n",
    "        elif data_dict[i]['region'] == 'southeast' and data_dict[i]['smoker'] == \"yes\":\n",
    "            southeast_smokers += 1\n",
    "        elif data_dict[i]['region'] == 'southeast' and data_dict[i]['smoker'] == \"no\":\n",
    "            southeast_nonsmokers += 1\n",
    "        elif data_dict[i]['region'] == 'southwest' and data_dict[i]['smoker'] == \"yes\":\n",
    "            southwest_smokers += 1\n",
    "        elif data_dict[i]['region'] == 'southwest' and data_dict[i]['smoker'] == \"no\":\n",
    "            southwest_nonsmokers += 1\n",
    "        elif data_dict[i]['region'] == 'northwest' and data_dict[i]['smoker'] == \"yes\":\n",
    "            northwest_smokers += 1\n",
    "        elif data_dict[i]['region'] == 'northwest' and data_dict[i]['smoker'] == \"no\":\n",
    "            northwest_nonsmokers += 1\n",
    "        else:\n",
    "            pass\n",
    "        i += 1\n",
    "    northeast_total_people = northeast_smokers + northeast_nonsmokers\n",
    "    southeast_total_people = southeast_smokers + southeast_nonsmokers\n",
    "    southwest_total_people = southwest_smokers + southwest_nonsmokers\n",
    "    northwest_total_people = northwest_smokers + northwest_nonsmokers\n",
    "    print(\"{} percent of people in the northeast are smokers.\".format(round(northeast_smokers / northeast_total_people * 100)))\n",
    "    print(\"{} percent of people in the southeast are smokers.\".format(round(southeast_smokers / southeast_total_people * 100)))\n",
    "    print(\"{} percent of people in the southwest are smokers.\".format(round(southwest_smokers / southwest_total_people * 100)))\n",
    "    print(\"{} percent of people in the northwest are smokers.\".format(round(northwest_smokers / northwest_total_people * 100)))\n",
    "\n",
    "    \n",
    "smokers_region(data_dict)\n"
   ]
  },
  {
   "cell_type": "code",
   "execution_count": 7,
   "metadata": {},
   "outputs": [
    {
     "name": "stdout",
     "output_type": "stream",
     "text": [
      "21 percent of parents are smokers.\n",
      "20 percent of non-parents are smokers.\n"
     ]
    }
   ],
   "source": [
    "def pcnt_parents_smokers(data_dict):\n",
    "    \"\"\"Find percentage of parents that are smokers vs non-parents.\"\"\"\n",
    "    parent_smokers = 0\n",
    "    parent_nonsmokers = 0\n",
    "    nonparent_smokers = 0\n",
    "    nonparent_nonsmokers = 0\n",
    "    i = 0\n",
    "    for row in data_dict:\n",
    "        if data_dict[i]['children'] != '0' and data_dict[i]['smoker'] == \"yes\":\n",
    "            parent_smokers += 1\n",
    "        elif data_dict[i]['children'] != '0' and data_dict[i]['smoker'] == \"no\":\n",
    "            parent_nonsmokers += 1\n",
    "        elif data_dict[i]['children'] == '0' and data_dict[i]['smoker'] == \"yes\":\n",
    "            nonparent_smokers += 1\n",
    "        elif data_dict[i]['children'] == '0' and data_dict[i]['smoker'] == \"no\":\n",
    "            nonparent_nonsmokers += 1\n",
    "        else:\n",
    "            pass\n",
    "        i += 1\n",
    "    total_parents = parent_smokers + parent_nonsmokers\n",
    "    total_nonparents = nonparent_smokers + nonparent_nonsmokers\n",
    "    print(\"{} percent of parents are smokers.\".format(round(parent_smokers / total_parents * 100)))\n",
    "    print(\"{} percent of non-parents are smokers.\".format(round(nonparent_smokers / total_nonparents * 100)))\n",
    "\n",
    "pcnt_parents_smokers(data_dict)"
   ]
  },
  {
   "cell_type": "code",
   "execution_count": 8,
   "metadata": {},
   "outputs": [],
   "source": [
    "import import_ipynb\n",
    "import pandas as pd\n",
    "import matplotlib as plt\n",
    "\n",
    "def import_dataframe(data_dict):\n",
    "    return pd.DataFrame(data_dict)\n",
    "\n",
    "df = import_dataframe(data_dict)"
   ]
  },
  {
   "cell_type": "code",
   "execution_count": 9,
   "metadata": {},
   "outputs": [
    {
     "name": "stdout",
     "output_type": "stream",
     "text": [
      "  age     sex     bmi children smoker     region      charges\n",
      "0  19  female    27.9        0    yes  southwest    16884.924\n",
      "1  18    male   33.77        1     no  southeast    1725.5523\n",
      "2  28    male      33        3     no  southeast     4449.462\n",
      "3  33    male  22.705        0     no  northwest  21984.47061\n",
      "4  32    male   28.88        0     no  northwest    3866.8552\n"
     ]
    }
   ],
   "source": [
    "print(df.head())"
   ]
  },
  {
   "cell_type": "code",
   "execution_count": null,
   "metadata": {},
   "outputs": [],
   "source": []
  },
  {
   "cell_type": "code",
   "execution_count": 10,
   "metadata": {},
   "outputs": [
    {
     "ename": "ValueError",
     "evalue": "hist method requires numerical or datetime columns, nothing to plot.",
     "output_type": "error",
     "traceback": [
      "\u001b[1;31m---------------------------------------------------------------------------\u001b[0m",
      "\u001b[1;31mValueError\u001b[0m                                Traceback (most recent call last)",
      "Cell \u001b[1;32mIn [10], line 1\u001b[0m\n\u001b[1;32m----> 1\u001b[0m df\u001b[39m.\u001b[39;49mhist(column\u001b[39m=\u001b[39;49m\u001b[39m'\u001b[39;49m\u001b[39mregion\u001b[39;49m\u001b[39m'\u001b[39;49m)\n",
      "File \u001b[1;32mc:\\Users\\jeffr\\OneDrive\\Documents\\dev\\python-portfolio-project\\venv\\lib\\site-packages\\pandas\\plotting\\_core.py:232\u001b[0m, in \u001b[0;36mhist_frame\u001b[1;34m(data, column, by, grid, xlabelsize, xrot, ylabelsize, yrot, ax, sharex, sharey, figsize, layout, bins, backend, legend, **kwargs)\u001b[0m\n\u001b[0;32m    141\u001b[0m \u001b[39m\"\"\"\u001b[39;00m\n\u001b[0;32m    142\u001b[0m \u001b[39mMake a histogram of the DataFrame's columns.\u001b[39;00m\n\u001b[0;32m    143\u001b[0m \n\u001b[1;32m   (...)\u001b[0m\n\u001b[0;32m    229\u001b[0m \u001b[39m    >>> hist = df.hist(bins=3)\u001b[39;00m\n\u001b[0;32m    230\u001b[0m \u001b[39m\"\"\"\u001b[39;00m\n\u001b[0;32m    231\u001b[0m plot_backend \u001b[39m=\u001b[39m _get_plot_backend(backend)\n\u001b[1;32m--> 232\u001b[0m \u001b[39mreturn\u001b[39;00m plot_backend\u001b[39m.\u001b[39mhist_frame(\n\u001b[0;32m    233\u001b[0m     data,\n\u001b[0;32m    234\u001b[0m     column\u001b[39m=\u001b[39mcolumn,\n\u001b[0;32m    235\u001b[0m     by\u001b[39m=\u001b[39mby,\n\u001b[0;32m    236\u001b[0m     grid\u001b[39m=\u001b[39mgrid,\n\u001b[0;32m    237\u001b[0m     xlabelsize\u001b[39m=\u001b[39mxlabelsize,\n\u001b[0;32m    238\u001b[0m     xrot\u001b[39m=\u001b[39mxrot,\n\u001b[0;32m    239\u001b[0m     ylabelsize\u001b[39m=\u001b[39mylabelsize,\n\u001b[0;32m    240\u001b[0m     yrot\u001b[39m=\u001b[39myrot,\n\u001b[0;32m    241\u001b[0m     ax\u001b[39m=\u001b[39max,\n\u001b[0;32m    242\u001b[0m     sharex\u001b[39m=\u001b[39msharex,\n\u001b[0;32m    243\u001b[0m     sharey\u001b[39m=\u001b[39msharey,\n\u001b[0;32m    244\u001b[0m     figsize\u001b[39m=\u001b[39mfigsize,\n\u001b[0;32m    245\u001b[0m     layout\u001b[39m=\u001b[39mlayout,\n\u001b[0;32m    246\u001b[0m     legend\u001b[39m=\u001b[39mlegend,\n\u001b[0;32m    247\u001b[0m     bins\u001b[39m=\u001b[39mbins,\n\u001b[0;32m    248\u001b[0m     \u001b[39m*\u001b[39m\u001b[39m*\u001b[39mkwargs,\n\u001b[0;32m    249\u001b[0m )\n",
      "File \u001b[1;32mc:\\Users\\jeffr\\OneDrive\\Documents\\dev\\python-portfolio-project\\venv\\lib\\site-packages\\pandas\\plotting\\_matplotlib\\hist.py:499\u001b[0m, in \u001b[0;36mhist_frame\u001b[1;34m(data, column, by, grid, xlabelsize, xrot, ylabelsize, yrot, ax, sharex, sharey, figsize, layout, bins, legend, **kwds)\u001b[0m\n\u001b[0;32m    496\u001b[0m naxes \u001b[39m=\u001b[39m \u001b[39mlen\u001b[39m(data\u001b[39m.\u001b[39mcolumns)\n\u001b[0;32m    498\u001b[0m \u001b[39mif\u001b[39;00m naxes \u001b[39m==\u001b[39m \u001b[39m0\u001b[39m:\n\u001b[1;32m--> 499\u001b[0m     \u001b[39mraise\u001b[39;00m \u001b[39mValueError\u001b[39;00m(\n\u001b[0;32m    500\u001b[0m         \u001b[39m\"\u001b[39m\u001b[39mhist method requires numerical or datetime columns, nothing to plot.\u001b[39m\u001b[39m\"\u001b[39m\n\u001b[0;32m    501\u001b[0m     )\n\u001b[0;32m    503\u001b[0m fig, axes \u001b[39m=\u001b[39m create_subplots(\n\u001b[0;32m    504\u001b[0m     naxes\u001b[39m=\u001b[39mnaxes,\n\u001b[0;32m    505\u001b[0m     ax\u001b[39m=\u001b[39max,\n\u001b[1;32m   (...)\u001b[0m\n\u001b[0;32m    510\u001b[0m     layout\u001b[39m=\u001b[39mlayout,\n\u001b[0;32m    511\u001b[0m )\n\u001b[0;32m    512\u001b[0m _axes \u001b[39m=\u001b[39m flatten_axes(axes)\n",
      "\u001b[1;31mValueError\u001b[0m: hist method requires numerical or datetime columns, nothing to plot."
     ]
    }
   ],
   "source": [
    "df.hist(column='region')"
   ]
  }
 ],
 "metadata": {
  "kernelspec": {
   "display_name": "Python 3.10.7 ('venv': venv)",
   "language": "python",
   "name": "python3"
  },
  "language_info": {
   "codemirror_mode": {
    "name": "ipython",
    "version": 3
   },
   "file_extension": ".py",
   "mimetype": "text/x-python",
   "name": "python",
   "nbconvert_exporter": "python",
   "pygments_lexer": "ipython3",
   "version": "3.10.7"
  },
  "vscode": {
   "interpreter": {
    "hash": "53931bd6dd6a7f6ec6694ee3334fa6ed4888b1936c90923f66d053ce549b2333"
   }
  }
 },
 "nbformat": 4,
 "nbformat_minor": 4
}
